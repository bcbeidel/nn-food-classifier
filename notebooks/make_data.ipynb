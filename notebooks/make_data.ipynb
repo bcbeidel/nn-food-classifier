{
 "cells": [
  {
   "cell_type": "code",
   "execution_count": 1,
   "metadata": {},
   "outputs": [],
   "source": [
    "# OPTIONAL: Load the \"autoreload\" extension so that code can change\n",
    "%load_ext autoreload\n",
    "\n",
    "# OPTIONAL: always reload modules so that as you change code in src, it gets loaded\n",
    "%autoreload 2"
   ]
  },
  {
   "cell_type": "code",
   "execution_count": 10,
   "metadata": {},
   "outputs": [],
   "source": [
    "import sys, os\n",
    "\n",
    "import numpy as np\n",
    "import matplotlib.pyplot as plt\n",
    "import h5py\n",
    "\n",
    "from src.data.make_dataset import get_test_data, get_train_data\n",
    "\n",
    "%matplotlib inline"
   ]
  },
  {
   "cell_type": "code",
   "execution_count": 11,
   "metadata": {},
   "outputs": [],
   "source": [
    "sys.path.insert(0, \"/Users/bbeidel/git/nn-food-classifier\")\n",
    "sys.path.insert(0, \"/Users/bbeidel/git/nn-food-classifier/src\")"
   ]
  },
  {
   "cell_type": "code",
   "execution_count": 15,
   "metadata": {},
   "outputs": [],
   "source": [
    "def describe_images_dimensions(X):\n",
    "\n",
    "    n_images     = X.shape[0]\n",
    "    image_width  = X.shape[1]  \n",
    "    image_height = X.shape[2]\n",
    "    n_colors     = X.shape[3]\n",
    "\n",
    "    print(f'image count: {n_images}')\n",
    "    print(f'image dimentions: {image_width}px by {image_height}px; {n_colors} colors')"
   ]
  },
  {
   "cell_type": "code",
   "execution_count": 16,
   "metadata": {},
   "outputs": [],
   "source": [
    "X_train, Y_train, classes = get_train_data()"
   ]
  },
  {
   "cell_type": "code",
   "execution_count": 17,
   "metadata": {},
   "outputs": [],
   "source": [
    "X_test, Y_test, classes = get_test_data()"
   ]
  },
  {
   "cell_type": "code",
   "execution_count": 18,
   "metadata": {},
   "outputs": [
    {
     "output_type": "stream",
     "name": "stdout",
     "text": "image count: 1000\nimage dimentions: 32px by 32px; 3 colors\n"
    }
   ],
   "source": [
    "describe_images_dimensions(X_test)"
   ]
  },
  {
   "cell_type": "code",
   "execution_count": 19,
   "metadata": {},
   "outputs": [
    {
     "output_type": "stream",
     "name": "stdout",
     "text": "image count: 10099\nimage dimentions: 32px by 32px; 3 colors\n"
    }
   ],
   "source": [
    "describe_images_dimensions(X_train)"
   ]
  },
  {
   "cell_type": "code",
   "execution_count": null,
   "metadata": {},
   "outputs": [],
   "source": []
  }
 ],
 "metadata": {
  "kernelspec": {
   "display_name": "Python 3.7.7 64-bit ('env': venv)",
   "language": "python",
   "name": "python37764bitenvvenveef5d33eff8a47fa84bc107874c0c498"
  },
  "language_info": {
   "codemirror_mode": {
    "name": "ipython",
    "version": 3
   },
   "file_extension": ".py",
   "mimetype": "text/x-python",
   "name": "python",
   "nbconvert_exporter": "python",
   "pygments_lexer": "ipython3",
   "version": "3.7.7-final"
  }
 },
 "nbformat": 4,
 "nbformat_minor": 2
}